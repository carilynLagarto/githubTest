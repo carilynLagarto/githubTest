{
 "cells": [
  {
   "cell_type": "code",
   "execution_count": 1,
   "id": "5dbbd001",
   "metadata": {},
   "outputs": [],
   "source": [
    "distance = [10,14,23]\n",
    "time = [.3,.4,.6]"
   ]
  },
  {
   "cell_type": "code",
   "execution_count": 3,
   "id": "265e8be5",
   "metadata": {},
   "outputs": [],
   "source": [
    "speed = lambda distance, time : distance / time\n",
    "    "
   ]
  },
  {
   "cell_type": "code",
   "execution_count": null,
   "id": "fe22e5f7",
   "metadata": {},
   "outputs": [],
   "source": []
  }
 ],
 "metadata": {
  "kernelspec": {
   "display_name": "Python 3 (ipykernel)",
   "language": "python",
   "name": "python3"
  },
  "language_info": {
   "codemirror_mode": {
    "name": "ipython",
    "version": 3
   },
   "file_extension": ".py",
   "mimetype": "text/x-python",
   "name": "python",
   "nbconvert_exporter": "python",
   "pygments_lexer": "ipython3",
   "version": "3.9.7"
  }
 },
 "nbformat": 4,
 "nbformat_minor": 5
}
