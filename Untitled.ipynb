{
 "cells": [
  {
   "cell_type": "code",
   "execution_count": 37,
   "id": "4d74c190",
   "metadata": {},
   "outputs": [],
   "source": [
    "nameList=[]"
   ]
  },
  {
   "cell_type": "code",
   "execution_count": 38,
   "id": "04488c4a",
   "metadata": {},
   "outputs": [],
   "source": [
    "def printAllNames(*names):\n",
    "    for i in names:\n",
    "        nameList.append(i)"
   ]
  },
  {
   "cell_type": "code",
   "execution_count": 39,
   "id": "ae114515",
   "metadata": {},
   "outputs": [],
   "source": [
    "printAllNames(\"LEI\",\"ARIS\",\"MARK\",\"RAI\")"
   ]
  },
  {
   "cell_type": "code",
   "execution_count": 40,
   "id": "ececfa1e",
   "metadata": {},
   "outputs": [
    {
     "data": {
      "text/plain": [
       "['LEI', 'ARIS', 'MARK', 'RAI']"
      ]
     },
     "execution_count": 40,
     "metadata": {},
     "output_type": "execute_result"
    }
   ],
   "source": [
    "nameList"
   ]
  },
  {
   "cell_type": "code",
   "execution_count": null,
   "id": "f9f376e6",
   "metadata": {},
   "outputs": [],
   "source": []
  }
 ],
 "metadata": {
  "kernelspec": {
   "display_name": "Python 3 (ipykernel)",
   "language": "python",
   "name": "python3"
  },
  "language_info": {
   "codemirror_mode": {
    "name": "ipython",
    "version": 3
   },
   "file_extension": ".py",
   "mimetype": "text/x-python",
   "name": "python",
   "nbconvert_exporter": "python",
   "pygments_lexer": "ipython3",
   "version": "3.9.7"
  }
 },
 "nbformat": 4,
 "nbformat_minor": 5
}
